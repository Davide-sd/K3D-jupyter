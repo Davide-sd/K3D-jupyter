{
 "cells": [
  {
   "cell_type": "code",
   "execution_count": null,
   "id": "a81aab7a-cc11-43ed-af8d-f36043291d82",
   "metadata": {},
   "outputs": [],
   "source": []
  }
 ],
 "metadata": {
  "kernelspec": {
   "display_name": "Python 3 (ipykernel)",
   "language": "python",
   "name": "python3"
  },
  "language_info": {
   "name": ""
  }
 },
 "nbformat": 4,
 "nbformat_minor": 5
}
