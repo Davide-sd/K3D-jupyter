{
 "cells": [
  {
   "cell_type": "markdown",
   "metadata": {},
   "source": [
    "# Gray Scott"
   ]
  },
  {
   "cell_type": "code",
   "execution_count": 1,
   "metadata": {},
   "outputs": [],
   "source": [
    "import k3d\n",
    "import numpy as np\n",
    "import pycuda.gpuarray as gpuarray\n",
    "import numpy as np\n",
    "from pycuda.compiler import SourceModule\n",
    "import pycuda.driver as cuda\n",
    "\n",
    "cuda.init()\n",
    "device = cuda.Device(0)\n",
    "ctx = device.make_context()\n",
    "size = (512, 512)\n",
    "\n",
    "block_size = 128\n",
    "\n",
    "nx = (size[0]//block_size) * block_size\n",
    "ny = size[1]\n",
    "blocks = nx * ny // block_size\n",
    "\n",
    "u = np.ones((ny,nx),dtype=np.float32)\n",
    "v = np.zeros((ny,nx),dtype=np.float32)"
   ]
  },
  {
   "cell_type": "code",
   "execution_count": 2,
   "metadata": {},
   "outputs": [
    {
     "data": {
      "application/vnd.jupyter.widget-view+json": {
       "model_id": "49442102e9d74e749672abe316b9f4e2",
       "version_major": 2,
       "version_minor": 0
      },
      "text/plain": [
       "Output()"
      ]
     },
     "metadata": {},
     "output_type": "display_data"
    }
   ],
   "source": [
    "plot = k3d.plot(camera_auto_fit=False)\n",
    "texture = k3d.texture(attribute=u, color_range=[0.0, 0.35], \n",
    "                      color_map=k3d.matplotlib_color_maps.Viridis_r)\n",
    "plot += texture\n",
    "plot.display()"
   ]
  },
  {
   "cell_type": "code",
   "execution_count": 3,
   "metadata": {},
   "outputs": [],
   "source": [
    "texture.color_map = k3d.colormaps.matplotlib_color_maps.Viridis_r"
   ]
  },
  {
   "cell_type": "code",
   "execution_count": 4,
   "metadata": {},
   "outputs": [],
   "source": [
    "# Du, Dv, F, k = 0.16, 0.08, 0.035, 0.065 # Bacteria 1\n",
    "# Du, Dv, F, k = 0.14, 0.06, 0.035, 0.065 # Bacteria 2\n",
    "Du, Dv, F, k = 0.16, 0.08, 0.060, 0.062 # Coral\n",
    "# Du, Dv, F, k = 0.19, 0.05, 0.060, 0.062 # Fingerprint\n",
    "# Du, Dv, F, k = 0.10, 0.10, 0.018, 0.050 # Spirals\n",
    "# Du, Dv, F, k = 0.12, 0.08, 0.020, 0.050 # Spirals Dense\n",
    "# Du, Dv, F, k = 0.10, 0.16, 0.020, 0.050 # Spirals Fast\n",
    "# Du, Dv, F, k = 0.16, 0.08, 0.020, 0.055 # Unstable\n",
    "# Du, Dv, F, k = 0.16, 0.08, 0.050, 0.065 # Worms 1\n",
    "# Du, Dv, F, k = 0.16, 0.08, 0.054, 0.063 # Worms 2\n",
    "# Du, Dv, F, k = 0.16, 0.08, 0.035, 0.060 # Zebrafish"
   ]
  },
  {
   "cell_type": "code",
   "execution_count": 5,
   "metadata": {},
   "outputs": [
    {
     "ename": "CompileError",
     "evalue": "nvcc compilation of C:\\Users\\Artur\\AppData\\Local\\Temp\\tmpcc8gdj1_\\kernel.cu failed\n[command: nvcc --cubin -arch sm_61 -m64 -Ic:\\tools\\anaconda\\lib\\site-packages\\pycuda\\cuda kernel.cu]\n[stdout:\nnvcc fatal   : nvcc cannot find a supported version of Microsoft Visual Studio. Only the versions between 2017 and 2019 (inclusive) are supported! The nvcc flag '-allow-unsupported-compiler' can be used to override this version check; however, using an unsupported host compiler may cause compilation failure or incorrect run time execution. Use at your own risk.\r\n]",
     "output_type": "error",
     "traceback": [
      "\u001b[1;31m---------------------------------------------------------------------------\u001b[0m",
      "\u001b[1;31mCompileError\u001b[0m                              Traceback (most recent call last)",
      "\u001b[1;32m<ipython-input-5-22174a54eba7>\u001b[0m in \u001b[0;36m<module>\u001b[1;34m\u001b[0m\n\u001b[0;32m     40\u001b[0m     \"\"\".format(**pars)\n\u001b[0;32m     41\u001b[0m \u001b[1;33m\u001b[0m\u001b[0m\n\u001b[1;32m---> 42\u001b[1;33m \u001b[0mmod\u001b[0m \u001b[1;33m=\u001b[0m \u001b[0mSourceModule\u001b[0m\u001b[1;33m(\u001b[0m\u001b[0msrc\u001b[0m\u001b[1;33m)\u001b[0m\u001b[1;33m\u001b[0m\u001b[1;33m\u001b[0m\u001b[0m\n\u001b[0m\u001b[0;32m     43\u001b[0m \u001b[0mRDSv\u001b[0m \u001b[1;33m=\u001b[0m \u001b[0mmod\u001b[0m\u001b[1;33m.\u001b[0m\u001b[0mget_function\u001b[0m\u001b[1;33m(\u001b[0m\u001b[1;34m\"iterate_RDS\"\u001b[0m\u001b[1;33m)\u001b[0m\u001b[1;33m\u001b[0m\u001b[1;33m\u001b[0m\u001b[0m\n",
      "\u001b[1;32mC:\\Tools\\Anaconda\\lib\\site-packages\\pycuda\\compiler.py\u001b[0m in \u001b[0;36m__init__\u001b[1;34m(self, source, nvcc, options, keep, no_extern_c, arch, code, cache_dir, include_dirs)\u001b[0m\n\u001b[0;32m    347\u001b[0m         \u001b[0mself\u001b[0m\u001b[1;33m.\u001b[0m\u001b[0m_check_arch\u001b[0m\u001b[1;33m(\u001b[0m\u001b[0march\u001b[0m\u001b[1;33m)\u001b[0m\u001b[1;33m\u001b[0m\u001b[1;33m\u001b[0m\u001b[0m\n\u001b[0;32m    348\u001b[0m \u001b[1;33m\u001b[0m\u001b[0m\n\u001b[1;32m--> 349\u001b[1;33m         cubin = compile(\n\u001b[0m\u001b[0;32m    350\u001b[0m             \u001b[0msource\u001b[0m\u001b[1;33m,\u001b[0m\u001b[1;33m\u001b[0m\u001b[1;33m\u001b[0m\u001b[0m\n\u001b[0;32m    351\u001b[0m             \u001b[0mnvcc\u001b[0m\u001b[1;33m,\u001b[0m\u001b[1;33m\u001b[0m\u001b[1;33m\u001b[0m\u001b[0m\n",
      "\u001b[1;32mC:\\Tools\\Anaconda\\lib\\site-packages\\pycuda\\compiler.py\u001b[0m in \u001b[0;36mcompile\u001b[1;34m(source, nvcc, options, keep, no_extern_c, arch, code, cache_dir, include_dirs, target)\u001b[0m\n\u001b[0;32m    296\u001b[0m         \u001b[0moptions\u001b[0m\u001b[1;33m.\u001b[0m\u001b[0mappend\u001b[0m\u001b[1;33m(\u001b[0m\u001b[1;34m\"-I\"\u001b[0m \u001b[1;33m+\u001b[0m \u001b[0mi\u001b[0m\u001b[1;33m)\u001b[0m\u001b[1;33m\u001b[0m\u001b[1;33m\u001b[0m\u001b[0m\n\u001b[0;32m    297\u001b[0m \u001b[1;33m\u001b[0m\u001b[0m\n\u001b[1;32m--> 298\u001b[1;33m     \u001b[1;32mreturn\u001b[0m \u001b[0mcompile_plain\u001b[0m\u001b[1;33m(\u001b[0m\u001b[0msource\u001b[0m\u001b[1;33m,\u001b[0m \u001b[0moptions\u001b[0m\u001b[1;33m,\u001b[0m \u001b[0mkeep\u001b[0m\u001b[1;33m,\u001b[0m \u001b[0mnvcc\u001b[0m\u001b[1;33m,\u001b[0m \u001b[0mcache_dir\u001b[0m\u001b[1;33m,\u001b[0m \u001b[0mtarget\u001b[0m\u001b[1;33m)\u001b[0m\u001b[1;33m\u001b[0m\u001b[1;33m\u001b[0m\u001b[0m\n\u001b[0m\u001b[0;32m    299\u001b[0m \u001b[1;33m\u001b[0m\u001b[0m\n\u001b[0;32m    300\u001b[0m \u001b[1;33m\u001b[0m\u001b[0m\n",
      "\u001b[1;32mC:\\Tools\\Anaconda\\lib\\site-packages\\pycuda\\compiler.py\u001b[0m in \u001b[0;36mcompile_plain\u001b[1;34m(source, options, keep, nvcc, cache_dir, target)\u001b[0m\n\u001b[0;32m    149\u001b[0m         \u001b[1;32mfrom\u001b[0m \u001b[0mpycuda\u001b[0m\u001b[1;33m.\u001b[0m\u001b[0mdriver\u001b[0m \u001b[1;32mimport\u001b[0m \u001b[0mCompileError\u001b[0m\u001b[1;33m\u001b[0m\u001b[1;33m\u001b[0m\u001b[0m\n\u001b[0;32m    150\u001b[0m \u001b[1;33m\u001b[0m\u001b[0m\n\u001b[1;32m--> 151\u001b[1;33m         raise CompileError(\n\u001b[0m\u001b[0;32m    152\u001b[0m             \u001b[1;34m\"nvcc compilation of %s failed\"\u001b[0m \u001b[1;33m%\u001b[0m \u001b[0mcu_file_path\u001b[0m\u001b[1;33m,\u001b[0m\u001b[1;33m\u001b[0m\u001b[1;33m\u001b[0m\u001b[0m\n\u001b[0;32m    153\u001b[0m             \u001b[0mcmdline\u001b[0m\u001b[1;33m,\u001b[0m\u001b[1;33m\u001b[0m\u001b[1;33m\u001b[0m\u001b[0m\n",
      "\u001b[1;31mCompileError\u001b[0m: nvcc compilation of C:\\Users\\Artur\\AppData\\Local\\Temp\\tmpcc8gdj1_\\kernel.cu failed\n[command: nvcc --cubin -arch sm_61 -m64 -Ic:\\tools\\anaconda\\lib\\site-packages\\pycuda\\cuda kernel.cu]\n[stdout:\nnvcc fatal   : nvcc cannot find a supported version of Microsoft Visual Studio. Only the versions between 2017 and 2019 (inclusive) are supported! The nvcc flag '-allow-unsupported-compiler' can be used to override this version check; however, using an unsupported host compiler may cause compilation failure or incorrect run time execution. Use at your own risk.\r\n]"
     ]
    }
   ],
   "source": [
    "dt = 0.5 * 1\n",
    "\n",
    "pars = {'nx':nx,\n",
    "        'ny':ny,\n",
    "        'Du':Du,\n",
    "        'Dv':Dv,\n",
    "        'dt':dt,\n",
    "        'F':F,\n",
    "        'k':k}\n",
    "\n",
    "src = \"\"\"\n",
    "    __device__ inline float laplace2d(int idx, float *a)\n",
    "    {{\n",
    "      return(a[idx-1] + a[idx+1] + a[idx-{nx}] + a[idx+{nx}] - 4.0f * a[idx] );\n",
    "    }}\n",
    "\n",
    "  \n",
    "    __global__ void iterate_RDS(float *a,float *da,float *b,float *db)\n",
    "    {{\n",
    "      int idx = blockDim.x*blockIdx.x + threadIdx.x;\n",
    "      float k = {k}f;  \n",
    "      float F = {F}f;\n",
    "      \n",
    "      if(idx<{nx} || idx>{nx}*({ny}-1)-1) {{\n",
    "          return;\n",
    "      }}\n",
    "      \n",
    "      int x = idx % {nx};\n",
    "      \n",
    "      if(x==0 || x=={nx}-1) {{\n",
    "          return;\n",
    "      }}\n",
    "      \n",
    "      float u = a[idx]; \n",
    "      float v = b[idx];       \n",
    "     \n",
    "      da[idx] = u + {dt}f*(  -u*v*v + F*(1.0f-u) + {Du}*laplace2d(idx, a));\n",
    "      db[idx] = v + {dt}f*(   u*v*v - (F+k)*v + {Dv}*laplace2d(idx, b));\n",
    "    }}\n",
    "    \"\"\".format(**pars)\n",
    "\n",
    "mod = SourceModule(src)\n",
    "RDSv = mod.get_function(\"iterate_RDS\")"
   ]
  },
  {
   "cell_type": "code",
   "execution_count": null,
   "metadata": {},
   "outputs": [],
   "source": [
    "r = 20\n",
    "u[ny//2-r:ny//2+r,nx//2-r:nx//2+r] = 0.50\n",
    "v[ny//2-r:ny//2+r,nx//2-r:nx//2+r] = 0.25\n",
    "\n",
    "u += 0.05 * np.random.random((ny,nx))\n",
    "v += 0.05 * np.random.random((ny,nx))\n",
    "\n",
    "u_g = gpuarray.to_gpu(u)\n",
    "du_g = gpuarray.empty_like(u_g)\n",
    "\n",
    "v_g = gpuarray.to_gpu(v)\n",
    "dv_g = gpuarray.empty_like(v_g)"
   ]
  },
  {
   "cell_type": "code",
   "execution_count": null,
   "metadata": {},
   "outputs": [],
   "source": [
    "%%time \n",
    "for i in range(20000):    \n",
    "    RDSv(u_g,du_g,v_g,dv_g, block=(block_size,1,1), grid=(blocks,1))    \n",
    "    RDSv(du_g,u_g,dv_g,v_g, block=(block_size,1,1), grid=(blocks,1))  \n",
    "    \n",
    "    if (i + 1) % 500 == 0:\n",
    "        v = v_g.get()\n",
    "        texture.attribute = v\n",
    "        \n",
    "v = v_g.get()\n",
    "texture.attribute = v"
   ]
  }
 ],
 "metadata": {
  "kernelspec": {
   "display_name": "Python 3",
   "language": "python",
   "name": "python3"
  },
  "language_info": {
   "codemirror_mode": {
    "name": "ipython",
    "version": 3
   },
   "file_extension": ".py",
   "mimetype": "text/x-python",
   "name": "python",
   "nbconvert_exporter": "python",
   "pygments_lexer": "ipython3",
   "version": "3.8.5"
  },
  "widgets": {
   "application/vnd.jupyter.widget-state+json": {
    "state": {},
    "version_major": 2,
    "version_minor": 0
   }
  }
 },
 "nbformat": 4,
 "nbformat_minor": 4
}
